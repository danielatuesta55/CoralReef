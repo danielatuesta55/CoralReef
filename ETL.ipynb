{
 "cells": [
  {
   "cell_type": "markdown",
   "id": "f33411f7-bb19-40cd-b856-d11a42945022",
   "metadata": {},
   "source": [
    "# ETL Global temperature data & Coral reef data set\n",
    "\n",
    "In this notebook you will enconter the initial process for the project. We will be (E)xtracting (T)ransforming and (L)oading the data to be able to tell a story with data. \n",
    "\n",
    "Developers: Jorge Daniel Atuesta, John Cass & John Strode\n",
    "\n"
   ]
  },
  {
   "cell_type": "code",
   "execution_count": 1,
   "id": "2231c4f4-2e4e-4ded-8757-1acfd455503e",
   "metadata": {},
   "outputs": [],
   "source": [
    "#Importing dependencies\n",
    "import datetime\n",
    "import pandas as pd\n",
    "import numpy as np\n",
    "from sqlalchemy import create_engine"
   ]
  },
  {
   "cell_type": "code",
   "execution_count": 2,
   "id": "81d2a0a8-3ed5-4f41-909f-ff5e342f45fa",
   "metadata": {},
   "outputs": [
    {
     "data": {
      "text/html": [
       "<div>\n",
       "<style scoped>\n",
       "    .dataframe tbody tr th:only-of-type {\n",
       "        vertical-align: middle;\n",
       "    }\n",
       "\n",
       "    .dataframe tbody tr th {\n",
       "        vertical-align: top;\n",
       "    }\n",
       "\n",
       "    .dataframe thead th {\n",
       "        text-align: right;\n",
       "    }\n",
       "</style>\n",
       "<table border=\"1\" class=\"dataframe\">\n",
       "  <thead>\n",
       "    <tr style=\"text-align: right;\">\n",
       "      <th></th>\n",
       "      <th>dt</th>\n",
       "      <th>LandAverageTemperature</th>\n",
       "      <th>LandAverageTemperatureUncertainty</th>\n",
       "      <th>LandMaxTemperature</th>\n",
       "      <th>LandMaxTemperatureUncertainty</th>\n",
       "      <th>LandMinTemperature</th>\n",
       "      <th>LandMinTemperatureUncertainty</th>\n",
       "      <th>LandAndOceanAverageTemperature</th>\n",
       "      <th>LandAndOceanAverageTemperatureUncertainty</th>\n",
       "    </tr>\n",
       "  </thead>\n",
       "  <tbody>\n",
       "    <tr>\n",
       "      <th>3187</th>\n",
       "      <td>2015-08-01</td>\n",
       "      <td>14.755</td>\n",
       "      <td>0.072</td>\n",
       "      <td>20.699</td>\n",
       "      <td>0.110</td>\n",
       "      <td>9.005</td>\n",
       "      <td>0.170</td>\n",
       "      <td>17.589</td>\n",
       "      <td>0.057</td>\n",
       "    </tr>\n",
       "    <tr>\n",
       "      <th>3188</th>\n",
       "      <td>2015-09-01</td>\n",
       "      <td>12.999</td>\n",
       "      <td>0.079</td>\n",
       "      <td>18.845</td>\n",
       "      <td>0.088</td>\n",
       "      <td>7.199</td>\n",
       "      <td>0.229</td>\n",
       "      <td>17.049</td>\n",
       "      <td>0.058</td>\n",
       "    </tr>\n",
       "    <tr>\n",
       "      <th>3189</th>\n",
       "      <td>2015-10-01</td>\n",
       "      <td>10.801</td>\n",
       "      <td>0.102</td>\n",
       "      <td>16.450</td>\n",
       "      <td>0.059</td>\n",
       "      <td>5.232</td>\n",
       "      <td>0.115</td>\n",
       "      <td>16.290</td>\n",
       "      <td>0.062</td>\n",
       "    </tr>\n",
       "    <tr>\n",
       "      <th>3190</th>\n",
       "      <td>2015-11-01</td>\n",
       "      <td>7.433</td>\n",
       "      <td>0.119</td>\n",
       "      <td>12.892</td>\n",
       "      <td>0.093</td>\n",
       "      <td>2.157</td>\n",
       "      <td>0.106</td>\n",
       "      <td>15.252</td>\n",
       "      <td>0.063</td>\n",
       "    </tr>\n",
       "    <tr>\n",
       "      <th>3191</th>\n",
       "      <td>2015-12-01</td>\n",
       "      <td>5.518</td>\n",
       "      <td>0.100</td>\n",
       "      <td>10.725</td>\n",
       "      <td>0.154</td>\n",
       "      <td>0.287</td>\n",
       "      <td>0.099</td>\n",
       "      <td>14.774</td>\n",
       "      <td>0.062</td>\n",
       "    </tr>\n",
       "  </tbody>\n",
       "</table>\n",
       "</div>"
      ],
      "text/plain": [
       "              dt  LandAverageTemperature  LandAverageTemperatureUncertainty  \\\n",
       "3187  2015-08-01                  14.755                              0.072   \n",
       "3188  2015-09-01                  12.999                              0.079   \n",
       "3189  2015-10-01                  10.801                              0.102   \n",
       "3190  2015-11-01                   7.433                              0.119   \n",
       "3191  2015-12-01                   5.518                              0.100   \n",
       "\n",
       "      LandMaxTemperature  LandMaxTemperatureUncertainty  LandMinTemperature  \\\n",
       "3187              20.699                          0.110               9.005   \n",
       "3188              18.845                          0.088               7.199   \n",
       "3189              16.450                          0.059               5.232   \n",
       "3190              12.892                          0.093               2.157   \n",
       "3191              10.725                          0.154               0.287   \n",
       "\n",
       "      LandMinTemperatureUncertainty  LandAndOceanAverageTemperature  \\\n",
       "3187                          0.170                          17.589   \n",
       "3188                          0.229                          17.049   \n",
       "3189                          0.115                          16.290   \n",
       "3190                          0.106                          15.252   \n",
       "3191                          0.099                          14.774   \n",
       "\n",
       "      LandAndOceanAverageTemperatureUncertainty  \n",
       "3187                                      0.057  \n",
       "3188                                      0.058  \n",
       "3189                                      0.062  \n",
       "3190                                      0.063  \n",
       "3191                                      0.062  "
      ]
     },
     "execution_count": 2,
     "metadata": {},
     "output_type": "execute_result"
    }
   ],
   "source": [
    "#Reading in the CSV\n",
    "file_path = \"data/GlobalTemperatures.csv\"\n",
    "gt_df = pd.read_csv(file_path)\n",
    "gt_df.tail()"
   ]
  },
  {
   "cell_type": "markdown",
   "id": "1bc91fd3-71cb-4cdc-85ec-2b74441af35f",
   "metadata": {},
   "source": [
    "# Understading the data set\n",
    "\n",
    "This data set has a monthly recolation of Average Global temperature dating all the way back to 1750. The temperature is mesuared both for global land temperature and ocean average temperature. \n",
    "\n",
    "We will proceed to Extract, Transform and Load the data.\n",
    "\n",
    "Extract: We extracted the dataa from the followign link: https://www.kaggle.com/berkeleyearth/climate-change-earth-surface-temperature-data\n",
    "\n",
    "Transform: We will clean the data to only show the following:\n",
    "\n",
    "    1. land and ocean average temperature \n",
    "    2. Record said temperatures in decades from 1980 to 2015\n",
    "        2.1 1975\n",
    "        2.2 1985\n",
    "        2.3 1995\n",
    "        2.4 2005\n",
    "        2.5 2015\n",
    "    3. Since the data is set in monthly records we will average the years temp\n",
    "    4. Drop all the duplicates adn NaN values inside the df\n",
    "    5. Merge the two data sets. We will do a left join on the data column for both data sets. \n",
    "    \n",
    "    \n",
    "Load: We will load the final dataframe to postgres for furthure action. \n",
    "        \n"
   ]
  },
  {
   "cell_type": "code",
   "execution_count": 3,
   "id": "58870653-9926-479e-9094-22adf3bbc6c3",
   "metadata": {},
   "outputs": [
    {
     "data": {
      "text/plain": [
       "dt                                           3192\n",
       "LandAverageTemperature                       3180\n",
       "LandAverageTemperatureUncertainty            3180\n",
       "LandMaxTemperature                           1992\n",
       "LandMaxTemperatureUncertainty                1992\n",
       "LandMinTemperature                           1992\n",
       "LandMinTemperatureUncertainty                1992\n",
       "LandAndOceanAverageTemperature               1992\n",
       "LandAndOceanAverageTemperatureUncertainty    1992\n",
       "dtype: int64"
      ]
     },
     "execution_count": 3,
     "metadata": {},
     "output_type": "execute_result"
    }
   ],
   "source": [
    "#Getting the values in the data set using .count()\n",
    "gt_df.count()\n",
    "# As shown below the data set has inconsisten data that might be because of NaN values or duplicates. "
   ]
  },
  {
   "cell_type": "code",
   "execution_count": 4,
   "id": "1a7cb7ba-c124-4129-892e-a5c9ca243c08",
   "metadata": {},
   "outputs": [
    {
     "data": {
      "text/html": [
       "<div>\n",
       "<style scoped>\n",
       "    .dataframe tbody tr th:only-of-type {\n",
       "        vertical-align: middle;\n",
       "    }\n",
       "\n",
       "    .dataframe tbody tr th {\n",
       "        vertical-align: top;\n",
       "    }\n",
       "\n",
       "    .dataframe thead th {\n",
       "        text-align: right;\n",
       "    }\n",
       "</style>\n",
       "<table border=\"1\" class=\"dataframe\">\n",
       "  <thead>\n",
       "    <tr style=\"text-align: right;\">\n",
       "      <th></th>\n",
       "      <th>date</th>\n",
       "      <th>LandAndOceanAverageTemperature</th>\n",
       "    </tr>\n",
       "  </thead>\n",
       "  <tbody>\n",
       "    <tr>\n",
       "      <th>0</th>\n",
       "      <td>1750-01-01</td>\n",
       "      <td>NaN</td>\n",
       "    </tr>\n",
       "    <tr>\n",
       "      <th>1</th>\n",
       "      <td>1750-02-01</td>\n",
       "      <td>NaN</td>\n",
       "    </tr>\n",
       "    <tr>\n",
       "      <th>2</th>\n",
       "      <td>1750-03-01</td>\n",
       "      <td>NaN</td>\n",
       "    </tr>\n",
       "    <tr>\n",
       "      <th>3</th>\n",
       "      <td>1750-04-01</td>\n",
       "      <td>NaN</td>\n",
       "    </tr>\n",
       "    <tr>\n",
       "      <th>4</th>\n",
       "      <td>1750-05-01</td>\n",
       "      <td>NaN</td>\n",
       "    </tr>\n",
       "  </tbody>\n",
       "</table>\n",
       "</div>"
      ],
      "text/plain": [
       "         date  LandAndOceanAverageTemperature\n",
       "0  1750-01-01                             NaN\n",
       "1  1750-02-01                             NaN\n",
       "2  1750-03-01                             NaN\n",
       "3  1750-04-01                             NaN\n",
       "4  1750-05-01                             NaN"
      ]
     },
     "execution_count": 4,
     "metadata": {},
     "output_type": "execute_result"
    }
   ],
   "source": [
    "#Adjusting the columns in the df to match what we need\n",
    "#We will start by only haveing two columns : Date and land and Ocean Temp.\n",
    "updated_gt_df = gt_df[[\"dt\", \"LandAndOceanAverageTemperature\"]].rename(columns={\"dt\": \"date\", \"AverageTemperature\": \"avg_global_temp\"})\n",
    "updated_gt_df.head()"
   ]
  },
  {
   "cell_type": "code",
   "execution_count": 5,
   "id": "5d9f343b-aa54-44ce-97ee-cbc00cc3893d",
   "metadata": {},
   "outputs": [
    {
     "data": {
      "text/plain": [
       "date                              3192\n",
       "LandAndOceanAverageTemperature    1992\n",
       "dtype: int64"
      ]
     },
     "execution_count": 5,
     "metadata": {},
     "output_type": "execute_result"
    }
   ],
   "source": [
    "updated_gt_df.count()"
   ]
  },
  {
   "cell_type": "code",
   "execution_count": 6,
   "id": "9669885d-2e96-483b-a5c3-73dd9b5156eb",
   "metadata": {},
   "outputs": [
    {
     "data": {
      "text/plain": [
       "date                                 0\n",
       "LandAndOceanAverageTemperature    1200\n",
       "dtype: int64"
      ]
     },
     "execution_count": 6,
     "metadata": {},
     "output_type": "execute_result"
    }
   ],
   "source": [
    "#Check the total amount of NaN values in the data set\n",
    "#Link for checking null values in df using pandas and numpy: https://chartio.com/resources/tutorials/how-to-check-if-any-value-is-nan-in-a-pandas-dataframe/\n",
    "updated_gt_df.isnull().sum()\n",
    "#Because there are NAN values (1200) in the landandoceanavgtemp we need to remove them from the data set. We can see that the dates column has no NaN values"
   ]
  },
  {
   "cell_type": "code",
   "execution_count": 7,
   "id": "c94ea660-c789-487b-b73d-eaf88cd88c5d",
   "metadata": {},
   "outputs": [
    {
     "data": {
      "text/html": [
       "<div>\n",
       "<style scoped>\n",
       "    .dataframe tbody tr th:only-of-type {\n",
       "        vertical-align: middle;\n",
       "    }\n",
       "\n",
       "    .dataframe tbody tr th {\n",
       "        vertical-align: top;\n",
       "    }\n",
       "\n",
       "    .dataframe thead th {\n",
       "        text-align: right;\n",
       "    }\n",
       "</style>\n",
       "<table border=\"1\" class=\"dataframe\">\n",
       "  <thead>\n",
       "    <tr style=\"text-align: right;\">\n",
       "      <th></th>\n",
       "      <th>date</th>\n",
       "      <th>LandAndOceanAverageTemperature</th>\n",
       "    </tr>\n",
       "  </thead>\n",
       "  <tbody>\n",
       "    <tr>\n",
       "      <th>1200</th>\n",
       "      <td>1850-01-01</td>\n",
       "      <td>12.833</td>\n",
       "    </tr>\n",
       "    <tr>\n",
       "      <th>1201</th>\n",
       "      <td>1850-02-01</td>\n",
       "      <td>13.588</td>\n",
       "    </tr>\n",
       "    <tr>\n",
       "      <th>1202</th>\n",
       "      <td>1850-03-01</td>\n",
       "      <td>14.043</td>\n",
       "    </tr>\n",
       "    <tr>\n",
       "      <th>1203</th>\n",
       "      <td>1850-04-01</td>\n",
       "      <td>14.667</td>\n",
       "    </tr>\n",
       "    <tr>\n",
       "      <th>1204</th>\n",
       "      <td>1850-05-01</td>\n",
       "      <td>15.507</td>\n",
       "    </tr>\n",
       "  </tbody>\n",
       "</table>\n",
       "</div>"
      ],
      "text/plain": [
       "            date  LandAndOceanAverageTemperature\n",
       "1200  1850-01-01                          12.833\n",
       "1201  1850-02-01                          13.588\n",
       "1202  1850-03-01                          14.043\n",
       "1203  1850-04-01                          14.667\n",
       "1204  1850-05-01                          15.507"
      ]
     },
     "execution_count": 7,
     "metadata": {},
     "output_type": "execute_result"
    }
   ],
   "source": [
    "#We now are going to drop any NaN values from the data set.\n",
    "#Here is a link to the documentation for dropping NaN values: https://pandas.pydata.org/pandas-docs/stable/reference/api/pandas.DataFrame.dropna.html\n",
    "no_nan_gt_df = updated_gt_df.dropna()\n",
    "no_nan_gt_df.head()\n"
   ]
  },
  {
   "cell_type": "markdown",
   "id": "0c916bd7-21de-4ef7-a7b9-d9b2ab179a18",
   "metadata": {},
   "source": [
    "***Its important to note that now the df dosent show the any years previouse to 1850 this is because they had no data points or records on file and where dropped. This dosent affect our process as we will be looking at the following years: 1975-1985-1995-2005-2015***"
   ]
  },
  {
   "cell_type": "code",
   "execution_count": 8,
   "id": "0c795bbe-f162-4a17-a6c7-0a067625f4d7",
   "metadata": {},
   "outputs": [
    {
     "name": "stdout",
     "output_type": "stream",
     "text": [
      "Duplicate Rows based on a single column are:\n",
      "Empty DataFrame\n",
      "Columns: [date, LandAndOceanAverageTemperature]\n",
      "Index: []\n"
     ]
    }
   ],
   "source": [
    "#Check if therea are duplicated valuesvalues on the date in the df\n",
    "#link: https://thispointer.com/pandas-find-duplicate-rows-in-a-dataframe-based-on-all-or-selected-columns-using-dataframe-duplicated-in-python/\n",
    "\n",
    "duplicateRowsDF = no_nan_gt_df[no_nan_gt_df.duplicated(['date'])]\n",
    "\n",
    "print(\"Duplicate Rows based on a single column are:\", duplicateRowsDF, sep='\\n')\n",
    "\n",
    "#We can see in the out put no duplciates where found in the data set. "
   ]
  },
  {
   "cell_type": "code",
   "execution_count": 9,
   "id": "9b697a99-0002-438e-8872-6b54ac8f7407",
   "metadata": {},
   "outputs": [
    {
     "data": {
      "text/html": [
       "<div>\n",
       "<style scoped>\n",
       "    .dataframe tbody tr th:only-of-type {\n",
       "        vertical-align: middle;\n",
       "    }\n",
       "\n",
       "    .dataframe tbody tr th {\n",
       "        vertical-align: top;\n",
       "    }\n",
       "\n",
       "    .dataframe thead th {\n",
       "        text-align: right;\n",
       "    }\n",
       "</style>\n",
       "<table border=\"1\" class=\"dataframe\">\n",
       "  <thead>\n",
       "    <tr style=\"text-align: right;\">\n",
       "      <th></th>\n",
       "      <th>date</th>\n",
       "      <th>LandAndOceanAverageTemperature</th>\n",
       "    </tr>\n",
       "  </thead>\n",
       "  <tbody>\n",
       "    <tr>\n",
       "      <th>0</th>\n",
       "      <td>1850-01-01</td>\n",
       "      <td>12.833</td>\n",
       "    </tr>\n",
       "    <tr>\n",
       "      <th>1</th>\n",
       "      <td>1850-02-01</td>\n",
       "      <td>13.588</td>\n",
       "    </tr>\n",
       "    <tr>\n",
       "      <th>2</th>\n",
       "      <td>1850-03-01</td>\n",
       "      <td>14.043</td>\n",
       "    </tr>\n",
       "    <tr>\n",
       "      <th>3</th>\n",
       "      <td>1850-04-01</td>\n",
       "      <td>14.667</td>\n",
       "    </tr>\n",
       "    <tr>\n",
       "      <th>4</th>\n",
       "      <td>1850-05-01</td>\n",
       "      <td>15.507</td>\n",
       "    </tr>\n",
       "  </tbody>\n",
       "</table>\n",
       "</div>"
      ],
      "text/plain": [
       "         date  LandAndOceanAverageTemperature\n",
       "0  1850-01-01                          12.833\n",
       "1  1850-02-01                          13.588\n",
       "2  1850-03-01                          14.043\n",
       "3  1850-04-01                          14.667\n",
       "4  1850-05-01                          15.507"
      ]
     },
     "execution_count": 9,
     "metadata": {},
     "output_type": "execute_result"
    }
   ],
   "source": [
    "#Reset the index to start from 0\n",
    "ri_gt_df = no_nan_gt_df.reset_index()\n",
    "almost_gt_df = ri_gt_df.drop(columns=['index'])\n",
    "almost_gt_df.head()\n"
   ]
  },
  {
   "cell_type": "code",
   "execution_count": 10,
   "id": "2ad64fd6-a8ba-4584-8fcf-fc804e399604",
   "metadata": {},
   "outputs": [],
   "source": [
    "#We need to add a column with date time format and delete the preiviouse date column \n",
    "almost_gt_df['date'] = pd.to_datetime(almost_gt_df['date'])\n"
   ]
  },
  {
   "cell_type": "code",
   "execution_count": 11,
   "id": "458a795a-119f-4b85-9a58-20d107bd890c",
   "metadata": {},
   "outputs": [
    {
     "data": {
      "text/html": [
       "<div>\n",
       "<style scoped>\n",
       "    .dataframe tbody tr th:only-of-type {\n",
       "        vertical-align: middle;\n",
       "    }\n",
       "\n",
       "    .dataframe tbody tr th {\n",
       "        vertical-align: top;\n",
       "    }\n",
       "\n",
       "    .dataframe thead th {\n",
       "        text-align: right;\n",
       "    }\n",
       "</style>\n",
       "<table border=\"1\" class=\"dataframe\">\n",
       "  <thead>\n",
       "    <tr style=\"text-align: right;\">\n",
       "      <th></th>\n",
       "      <th>date</th>\n",
       "      <th>LandAndOceanAverageTemperature</th>\n",
       "      <th>year</th>\n",
       "      <th>month</th>\n",
       "      <th>day</th>\n",
       "    </tr>\n",
       "  </thead>\n",
       "  <tbody>\n",
       "    <tr>\n",
       "      <th>0</th>\n",
       "      <td>1850-01-01</td>\n",
       "      <td>12.833</td>\n",
       "      <td>1850</td>\n",
       "      <td>1</td>\n",
       "      <td>1</td>\n",
       "    </tr>\n",
       "    <tr>\n",
       "      <th>1</th>\n",
       "      <td>1850-02-01</td>\n",
       "      <td>13.588</td>\n",
       "      <td>1850</td>\n",
       "      <td>2</td>\n",
       "      <td>1</td>\n",
       "    </tr>\n",
       "    <tr>\n",
       "      <th>2</th>\n",
       "      <td>1850-03-01</td>\n",
       "      <td>14.043</td>\n",
       "      <td>1850</td>\n",
       "      <td>3</td>\n",
       "      <td>1</td>\n",
       "    </tr>\n",
       "    <tr>\n",
       "      <th>3</th>\n",
       "      <td>1850-04-01</td>\n",
       "      <td>14.667</td>\n",
       "      <td>1850</td>\n",
       "      <td>4</td>\n",
       "      <td>1</td>\n",
       "    </tr>\n",
       "    <tr>\n",
       "      <th>4</th>\n",
       "      <td>1850-05-01</td>\n",
       "      <td>15.507</td>\n",
       "      <td>1850</td>\n",
       "      <td>5</td>\n",
       "      <td>1</td>\n",
       "    </tr>\n",
       "    <tr>\n",
       "      <th>...</th>\n",
       "      <td>...</td>\n",
       "      <td>...</td>\n",
       "      <td>...</td>\n",
       "      <td>...</td>\n",
       "      <td>...</td>\n",
       "    </tr>\n",
       "    <tr>\n",
       "      <th>1987</th>\n",
       "      <td>2015-08-01</td>\n",
       "      <td>17.589</td>\n",
       "      <td>2015</td>\n",
       "      <td>8</td>\n",
       "      <td>1</td>\n",
       "    </tr>\n",
       "    <tr>\n",
       "      <th>1988</th>\n",
       "      <td>2015-09-01</td>\n",
       "      <td>17.049</td>\n",
       "      <td>2015</td>\n",
       "      <td>9</td>\n",
       "      <td>1</td>\n",
       "    </tr>\n",
       "    <tr>\n",
       "      <th>1989</th>\n",
       "      <td>2015-10-01</td>\n",
       "      <td>16.290</td>\n",
       "      <td>2015</td>\n",
       "      <td>10</td>\n",
       "      <td>1</td>\n",
       "    </tr>\n",
       "    <tr>\n",
       "      <th>1990</th>\n",
       "      <td>2015-11-01</td>\n",
       "      <td>15.252</td>\n",
       "      <td>2015</td>\n",
       "      <td>11</td>\n",
       "      <td>1</td>\n",
       "    </tr>\n",
       "    <tr>\n",
       "      <th>1991</th>\n",
       "      <td>2015-12-01</td>\n",
       "      <td>14.774</td>\n",
       "      <td>2015</td>\n",
       "      <td>12</td>\n",
       "      <td>1</td>\n",
       "    </tr>\n",
       "  </tbody>\n",
       "</table>\n",
       "<p>1992 rows × 5 columns</p>\n",
       "</div>"
      ],
      "text/plain": [
       "           date  LandAndOceanAverageTemperature  year  month  day\n",
       "0    1850-01-01                          12.833  1850      1    1\n",
       "1    1850-02-01                          13.588  1850      2    1\n",
       "2    1850-03-01                          14.043  1850      3    1\n",
       "3    1850-04-01                          14.667  1850      4    1\n",
       "4    1850-05-01                          15.507  1850      5    1\n",
       "...         ...                             ...   ...    ...  ...\n",
       "1987 2015-08-01                          17.589  2015      8    1\n",
       "1988 2015-09-01                          17.049  2015      9    1\n",
       "1989 2015-10-01                          16.290  2015     10    1\n",
       "1990 2015-11-01                          15.252  2015     11    1\n",
       "1991 2015-12-01                          14.774  2015     12    1\n",
       "\n",
       "[1992 rows x 5 columns]"
      ]
     },
     "execution_count": 11,
     "metadata": {},
     "output_type": "execute_result"
    }
   ],
   "source": [
    "#Adding the columns to the df\n",
    "almost_gt_df[\"year\"] = almost_gt_df['date'].dt.year\n",
    "almost_gt_df[\"month\"] =almost_gt_df['date'].dt.month\n",
    "almost_gt_df[\"day\"] = almost_gt_df['date'].dt.day\n",
    "a_df = almost_gt_df\n",
    "a_df"
   ]
  },
  {
   "cell_type": "code",
   "execution_count": 12,
   "id": "dad306d1-8c4a-4830-a149-1e8548d89ff8",
   "metadata": {},
   "outputs": [
    {
     "data": {
      "text/html": [
       "<div>\n",
       "<style scoped>\n",
       "    .dataframe tbody tr th:only-of-type {\n",
       "        vertical-align: middle;\n",
       "    }\n",
       "\n",
       "    .dataframe tbody tr th {\n",
       "        vertical-align: top;\n",
       "    }\n",
       "\n",
       "    .dataframe thead th {\n",
       "        text-align: right;\n",
       "    }\n",
       "</style>\n",
       "<table border=\"1\" class=\"dataframe\">\n",
       "  <thead>\n",
       "    <tr style=\"text-align: right;\">\n",
       "      <th></th>\n",
       "      <th>LandAndOceanAverageTemperature</th>\n",
       "      <th>year</th>\n",
       "    </tr>\n",
       "  </thead>\n",
       "  <tbody>\n",
       "    <tr>\n",
       "      <th>0</th>\n",
       "      <td>12.833</td>\n",
       "      <td>1850</td>\n",
       "    </tr>\n",
       "    <tr>\n",
       "      <th>1</th>\n",
       "      <td>13.588</td>\n",
       "      <td>1850</td>\n",
       "    </tr>\n",
       "    <tr>\n",
       "      <th>2</th>\n",
       "      <td>14.043</td>\n",
       "      <td>1850</td>\n",
       "    </tr>\n",
       "    <tr>\n",
       "      <th>3</th>\n",
       "      <td>14.667</td>\n",
       "      <td>1850</td>\n",
       "    </tr>\n",
       "    <tr>\n",
       "      <th>4</th>\n",
       "      <td>15.507</td>\n",
       "      <td>1850</td>\n",
       "    </tr>\n",
       "    <tr>\n",
       "      <th>...</th>\n",
       "      <td>...</td>\n",
       "      <td>...</td>\n",
       "    </tr>\n",
       "    <tr>\n",
       "      <th>1987</th>\n",
       "      <td>17.589</td>\n",
       "      <td>2015</td>\n",
       "    </tr>\n",
       "    <tr>\n",
       "      <th>1988</th>\n",
       "      <td>17.049</td>\n",
       "      <td>2015</td>\n",
       "    </tr>\n",
       "    <tr>\n",
       "      <th>1989</th>\n",
       "      <td>16.290</td>\n",
       "      <td>2015</td>\n",
       "    </tr>\n",
       "    <tr>\n",
       "      <th>1990</th>\n",
       "      <td>15.252</td>\n",
       "      <td>2015</td>\n",
       "    </tr>\n",
       "    <tr>\n",
       "      <th>1991</th>\n",
       "      <td>14.774</td>\n",
       "      <td>2015</td>\n",
       "    </tr>\n",
       "  </tbody>\n",
       "</table>\n",
       "<p>1992 rows × 2 columns</p>\n",
       "</div>"
      ],
      "text/plain": [
       "      LandAndOceanAverageTemperature  year\n",
       "0                             12.833  1850\n",
       "1                             13.588  1850\n",
       "2                             14.043  1850\n",
       "3                             14.667  1850\n",
       "4                             15.507  1850\n",
       "...                              ...   ...\n",
       "1987                          17.589  2015\n",
       "1988                          17.049  2015\n",
       "1989                          16.290  2015\n",
       "1990                          15.252  2015\n",
       "1991                          14.774  2015\n",
       "\n",
       "[1992 rows x 2 columns]"
      ]
     },
     "execution_count": 12,
     "metadata": {},
     "output_type": "execute_result"
    }
   ],
   "source": [
    "#Removing unwanted columns\n",
    "df1 = a_df.drop(columns=['date','month','day'])\n",
    "df1"
   ]
  },
  {
   "cell_type": "code",
   "execution_count": 13,
   "id": "a5f29aaa-758c-4543-ba6b-0cb024e542e2",
   "metadata": {},
   "outputs": [
    {
     "data": {
      "text/plain": [
       "<pandas.core.groupby.generic.DataFrameGroupBy object at 0x7fb7db848dc0>"
      ]
     },
     "execution_count": 13,
     "metadata": {},
     "output_type": "execute_result"
    }
   ],
   "source": [
    "#using group by function \n",
    "df2 = df1.groupby(['year'])\n",
    "df2"
   ]
  },
  {
   "cell_type": "code",
   "execution_count": 14,
   "id": "7ae0ee78-3c3d-4ce9-9b53-fc2ca3f61b46",
   "metadata": {},
   "outputs": [
    {
     "data": {
      "text/html": [
       "<div>\n",
       "<style scoped>\n",
       "    .dataframe tbody tr th:only-of-type {\n",
       "        vertical-align: middle;\n",
       "    }\n",
       "\n",
       "    .dataframe tbody tr th {\n",
       "        vertical-align: top;\n",
       "    }\n",
       "\n",
       "    .dataframe thead th {\n",
       "        text-align: right;\n",
       "    }\n",
       "</style>\n",
       "<table border=\"1\" class=\"dataframe\">\n",
       "  <thead>\n",
       "    <tr style=\"text-align: right;\">\n",
       "      <th></th>\n",
       "      <th>LandAndOceanAverageTemperature</th>\n",
       "    </tr>\n",
       "    <tr>\n",
       "      <th>year</th>\n",
       "      <th></th>\n",
       "    </tr>\n",
       "  </thead>\n",
       "  <tbody>\n",
       "    <tr>\n",
       "      <th>1850</th>\n",
       "      <td>14.867167</td>\n",
       "    </tr>\n",
       "    <tr>\n",
       "      <th>1851</th>\n",
       "      <td>14.991833</td>\n",
       "    </tr>\n",
       "    <tr>\n",
       "      <th>1852</th>\n",
       "      <td>15.006500</td>\n",
       "    </tr>\n",
       "    <tr>\n",
       "      <th>1853</th>\n",
       "      <td>14.955167</td>\n",
       "    </tr>\n",
       "    <tr>\n",
       "      <th>1854</th>\n",
       "      <td>14.991000</td>\n",
       "    </tr>\n",
       "  </tbody>\n",
       "</table>\n",
       "</div>"
      ],
      "text/plain": [
       "      LandAndOceanAverageTemperature\n",
       "year                                \n",
       "1850                       14.867167\n",
       "1851                       14.991833\n",
       "1852                       15.006500\n",
       "1853                       14.955167\n",
       "1854                       14.991000"
      ]
     },
     "execution_count": 14,
     "metadata": {},
     "output_type": "execute_result"
    }
   ],
   "source": [
    "#Getting average temp per year of all the data set. \n",
    "agg_df = df2.agg({\n",
    "    'LandAndOceanAverageTemperature': 'mean'\n",
    "})\n",
    "agg_df.head()"
   ]
  },
  {
   "cell_type": "code",
   "execution_count": null,
   "id": "0a7a9683-fdd1-4439-a10d-853377255450",
   "metadata": {},
   "outputs": [],
   "source": []
  },
  {
   "cell_type": "code",
   "execution_count": null,
   "id": "3dc7f076-049d-4f67-839d-d11522c569f1",
   "metadata": {},
   "outputs": [],
   "source": []
  },
  {
   "cell_type": "code",
   "execution_count": null,
   "id": "935e9cb9-9f25-4253-8ee6-747b8c0f3809",
   "metadata": {},
   "outputs": [],
   "source": []
  },
  {
   "cell_type": "code",
   "execution_count": null,
   "id": "12167a96-75ad-4cda-8a90-08d749baca30",
   "metadata": {},
   "outputs": [],
   "source": []
  },
  {
   "cell_type": "code",
   "execution_count": 56,
   "id": "3c071228-3fa9-4547-a5f4-694baac1266f",
   "metadata": {
    "tags": []
   },
   "outputs": [],
   "source": [
    "#We need to filter to only gather the data for the years we need.\n",
    "# Years we need = 1975-1985-1995-2005-2015\n",
    "\n",
    "# year_1975_df = almost_gt_df.loc[almost_gt_df['date'] == \"1975-01-01\"]\n",
    "# year_1975_df.head()"
   ]
  },
  {
   "cell_type": "code",
   "execution_count": null,
   "id": "1d3c2c4a-865d-405e-8ee1-b5ac1128515b",
   "metadata": {},
   "outputs": [],
   "source": []
  },
  {
   "cell_type": "code",
   "execution_count": null,
   "id": "d8b38d4d-c43e-476a-8c71-0666369e8afd",
   "metadata": {},
   "outputs": [],
   "source": []
  },
  {
   "cell_type": "markdown",
   "id": "50843b1c-431f-417d-9c23-2cc7caef239f",
   "metadata": {},
   "source": [
    "# Loading the data into postgres"
   ]
  },
  {
   "cell_type": "code",
   "execution_count": null,
   "id": "66e0002c-4124-4c03-b0b0-c5ca9e022524",
   "metadata": {},
   "outputs": [],
   "source": [
    "#STEP 7 \n",
    "#Creating connection string and engine\n",
    "#Create DB in postgres name it coral_reef_db\n",
    "#Create the tables on postgres\n",
    "connection_string = \"postgres:postgres@localhost:5432/coral_reef_db\"\n",
    "engine = create_engine(f'postgresql://{connection_string}')"
   ]
  },
  {
   "cell_type": "code",
   "execution_count": null,
   "id": "dc379776-ab3b-451f-9500-532eb73b15ff",
   "metadata": {},
   "outputs": [],
   "source": [
    "#STEP 8 \n",
    "# Confirm tables\n",
    "engine.table_names()"
   ]
  },
  {
   "cell_type": "code",
   "execution_count": null,
   "id": "7b1291bd-77ae-415a-ac1d-31e8a4266814",
   "metadata": {},
   "outputs": [],
   "source": [
    "#STEP 9\n",
    "#Loading data into postgres before the . put the df name and inside the () in name put the name of the table from the data base where the data will be placed.\n",
    ".to_sql(name='', con=engine, if_exists='append', index=True)"
   ]
  },
  {
   "cell_type": "code",
   "execution_count": null,
   "id": "a9d6ca28-5b5c-4793-9403-48ac0acc2b3f",
   "metadata": {},
   "outputs": [],
   "source": [
    "#STEP 9\n",
    "#Loading data into postgres\n",
    ".to_sql(name='', con=engine, if_exists='append', index=True)"
   ]
  },
  {
   "cell_type": "code",
   "execution_count": null,
   "id": "6bdbd8af-bfc0-4ff0-91de-39aa64874782",
   "metadata": {},
   "outputs": [],
   "source": []
  },
  {
   "cell_type": "code",
   "execution_count": null,
   "id": "6139a4a1-e12e-48f3-b312-230a0461ea65",
   "metadata": {},
   "outputs": [],
   "source": []
  },
  {
   "cell_type": "code",
   "execution_count": null,
   "id": "37343802-624e-4cba-b228-d990ce4b2eb4",
   "metadata": {},
   "outputs": [],
   "source": []
  },
  {
   "cell_type": "code",
   "execution_count": null,
   "id": "3b50bfb1-c3b2-4a61-b04b-a95a946dc175",
   "metadata": {},
   "outputs": [],
   "source": []
  }
 ],
 "metadata": {
  "kernelspec": {
   "display_name": "Python 3",
   "language": "python",
   "name": "python3"
  },
  "language_info": {
   "codemirror_mode": {
    "name": "ipython",
    "version": 3
   },
   "file_extension": ".py",
   "mimetype": "text/x-python",
   "name": "python",
   "nbconvert_exporter": "python",
   "pygments_lexer": "ipython3",
   "version": "3.8.8"
  }
 },
 "nbformat": 4,
 "nbformat_minor": 5
}
